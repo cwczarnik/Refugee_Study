{
 "cells": [
  {
   "cell_type": "code",
   "execution_count": 1,
   "metadata": {
    "collapsed": true
   },
   "outputs": [],
   "source": [
    "import plotly.dashboard_objs as dashboard\n",
    "import plotly.plotly as py\n",
    "import IPython.display\n",
    "from IPython.display import Image\n",
    "py.sign_in(username='cwczarnik',api_key='Is5ldV5TgJQMWUQRXtvR')"
   ]
  },
  {
   "cell_type": "code",
   "execution_count": 166,
   "metadata": {
    "collapsed": true
   },
   "outputs": [],
   "source": [
    "import matplotlib.pyplot as plt\n",
    "import plotly.tools as tls\n",
    "import cufflinks as cf\n",
    "import pandas as pd\n",
    "my_dboard = dashboard.Dashboard()\n",
    "cf.set_config_file(offline=False, world_readable=True, theme='space')"
   ]
  },
  {
   "cell_type": "code",
   "execution_count": 167,
   "metadata": {
    "collapsed": true
   },
   "outputs": [],
   "source": [
    "def fileId_from_url(url):\n",
    "    \"\"\"Return fileId from a url.\"\"\"\n",
    "    index = url.find('~')\n",
    "    fileId = url[index + 1:]\n",
    "    local_id_index = fileId.find('/')\n",
    "\n",
    "    share_key_index = fileId.find('?share_key')\n",
    "    if share_key_index == -1:\n",
    "        return fileId.replace('/', ':')\n",
    "    else:\n",
    "        return fileId[:share_key_index].replace('/', ':')\n",
    "\n",
    "def sharekey_from_url(url):\n",
    "    \"\"\"Return the sharekey from a url.\"\"\"\n",
    "    index = url.find('share_key=')\n",
    "    return url[index + len('share_key='):]"
   ]
  },
  {
   "cell_type": "code",
   "execution_count": 168,
   "metadata": {},
   "outputs": [],
   "source": [
    "## Load in data\n",
    "import pandas as pd \n",
    "import os\n",
    "path = './data'\n",
    "aff_asylum = pd.read_csv(os.path.join(path, \"affirmative_asylum.csv\"),sep=',',thousands=',')\n",
    "asylum_statistics = pd.read_csv(os.path.join(path, \"asylum_statistics.csv\"),thousands=',')\n",
    "def_asylum = pd.read_csv(os.path.join(path, \"defensive_asylum.csv\"),thousands=',')\n",
    "refugee_status = pd.read_csv(os.path.join(path, \"refugee_status.csv\"),thousands=',')"
   ]
  },
  {
   "cell_type": "code",
   "execution_count": 169,
   "metadata": {},
   "outputs": [],
   "source": [
    "import re\n",
    "import numpy as np\n",
    "df_da = def_asylum\n",
    "df_da = df_da.set_index('Continent/Country of Nationality')\n",
    "df_da = df_da.transpose()\n",
    "df_da = df_da.apply(lambda x: [re.sub('[A-Z-,]*','',x[i]) for i in range(len(x))])\n",
    "# df_da = df_da.apply(lambda x: int(x))\n",
    "df_da.replace(to_replace = '',value = np.nan,regex = True,inplace =True)\n",
    "df_da = df_da.apply(lambda x: x.fillna(x.median()),axis=0)\n",
    "df_da = df_da.astype('float')\n",
    "## this gets rid of blank values and fills them with NaN and then fills in with the median/mean values..."
   ]
  },
  {
   "cell_type": "code",
   "execution_count": null,
   "metadata": {},
   "outputs": [],
   "source": []
  },
  {
   "cell_type": "code",
   "execution_count": 170,
   "metadata": {},
   "outputs": [],
   "source": [
    "%matplotlib inline\n",
    "times = list(df_da.index)\n",
    "# df_da.index = pd.to_datetime(times)\n",
    "idx = 10\n",
    "url_1 = df_da.iloc[:,0:idx].iplot(asUrl=True)\n",
    "# plt.legend(loc='center left', bbox_to_anchor=(1.0, 0.5))\n",
    "# plt.title('Origin of individuals granted defensive asylum')\n",
    "# plt.show()\n",
    "# plt.legend(loc='center left', bbox_to_anchor=(1.0, 0.5))\n",
    "\n",
    "# plotly_fig = tls.mpl_to_plotly(fig)\n",
    "file_Id_1 = fileId_from_url(url_1)"
   ]
  },
  {
   "cell_type": "code",
   "execution_count": 171,
   "metadata": {},
   "outputs": [
    {
     "name": "stderr",
     "output_type": "stream",
     "text": [
      "/anaconda3/lib/python3.6/site-packages/ipykernel_launcher.py:2: FutureWarning:\n",
      "\n",
      "convert_objects is deprecated.  Use the data-type specific converters pd.to_datetime, pd.to_timedelta and pd.to_numeric.\n",
      "\n"
     ]
    }
   ],
   "source": [
    "demographics = pd.read_csv('./data/unhcr_popstats_export_demographics_all_data.csv',skiprows=3)\n",
    "demographics=demographics.convert_objects(convert_numeric=True)\n",
    "url_2 = demographics.groupby(['Location Name']).sum()[['F: Total'\n",
    "                                               ,'M: Total']].sort_values(['F: Total','M: Total']\n",
    "                                                                                   ,ascending=False)[0:20].iplot(kind ='bar',\n",
    "                                                                                                               title='Location Population',asUrl=True)\n",
    "\n",
    "file_Id_2 = fileId_from_url(url_2)"
   ]
  },
  {
   "cell_type": "code",
   "execution_count": 172,
   "metadata": {},
   "outputs": [],
   "source": [
    "url_3 = demographics.groupby('Year').sum()[['F: Total','M: Total']].iplot(kind='area',fill='tozeroy',asUrl=True)\n",
    "# ax2 = demographics.groupby('Year').sum()['].iplot(kind ='area',ax=ax,color = 'blue')\n",
    "file_Id_3 = fileId_from_url(url_3)"
   ]
  },
  {
   "cell_type": "code",
   "execution_count": null,
   "metadata": {},
   "outputs": [],
   "source": []
  },
  {
   "cell_type": "code",
   "execution_count": null,
   "metadata": {},
   "outputs": [],
   "source": []
  },
  {
   "cell_type": "code",
   "execution_count": 173,
   "metadata": {},
   "outputs": [],
   "source": [
    "url_4 = demographics['Country / territory of asylum/residence'].value_counts()[0:10].iplot(kind='bar',asUrl = 4)\n",
    "file_Id_4 = fileId_from_url(url_4)"
   ]
  },
  {
   "cell_type": "code",
   "execution_count": 174,
   "metadata": {},
   "outputs": [],
   "source": [
    "url_5 = demographics['Location Name'].value_counts()[0:10].iplot(kind='bar',color = 'blue',asUrl=True)\n",
    "file_Id_5 = fileId_from_url(url_5)"
   ]
  },
  {
   "cell_type": "code",
   "execution_count": 175,
   "metadata": {},
   "outputs": [
    {
     "name": "stderr",
     "output_type": "stream",
     "text": [
      "/anaconda3/lib/python3.6/site-packages/IPython/core/interactiveshell.py:2698: DtypeWarning:\n",
      "\n",
      "Columns (4) have mixed types. Specify dtype option on import or set low_memory=False.\n",
      "\n"
     ]
    }
   ],
   "source": [
    "data_2= pd.read_csv('./data/unhcr_popstats_export_time_series_all_data.csv',parse_dates=['Year'])\n",
    "data_2['Year'] = data_2['Year'].apply(lambda x: x.year)\n",
    "data_2.dropna(axis = 0,inplace = True)\n",
    "def if_numeric(val):\n",
    "    try:\n",
    "        return(int(val))\n",
    "    except:\n",
    "        return(np.nan)\n",
    "data_2['Value'] = data_2['Value'].apply(if_numeric)\n",
    "\n",
    "by_year = data_2.groupby(u'Year')['Value'].sum()\n",
    "by_year = by_year.reset_index()\n",
    "url_6 = by_year.iplot(x='Year',y='Value',asUrl=True)\n",
    "file_Id_6 = fileId_from_url(url_6)\n",
    "# plt.ylabel('Refugees')"
   ]
  },
  {
   "cell_type": "code",
   "execution_count": 231,
   "metadata": {},
   "outputs": [],
   "source": [
    "\n",
    "box_a = {\n",
    "    'type': 'box',\n",
    "    'boxType': 'plot',\n",
    "    'fileId': file_Id_1,\n",
    "    'title': 'defensive asylum'\n",
    "}\n",
    "\n",
    "\n",
    "box_b = {\n",
    "    'type': 'box',\n",
    "    'boxType': 'plot',\n",
    "    'fileId': file_Id_2,\n",
    "    'title': 'Male and Female by Location'\n",
    "}\n",
    "\n",
    "\n",
    "box_c = {\n",
    "    'type': 'box',\n",
    "    'boxType': 'plot',\n",
    "    'fileId': file_Id_3,\n",
    "    'title': 'Male and Female by Year'\n",
    "}\n",
    "\n",
    "\n",
    "box_d = {\n",
    "    'type': 'box',\n",
    "    'boxType': 'plot',\n",
    "    'fileId': file_Id_4,\n",
    "    'title': 'Top Location of Asylum'\n",
    "}\n",
    "\n",
    "box_e = {\n",
    "    'type': 'box',\n",
    "    'boxType': 'plot',\n",
    "    'fileId': file_Id_5,\n",
    "    'title': 'Top location of Origin'\n",
    "}\n",
    "\n",
    "\n",
    "box_f = {\n",
    "    'type': 'box',\n",
    "    'boxType': 'plot',\n",
    "    'fileId': file_Id_6,\n",
    "    'title': 'Time Series Trend'\n",
    "}"
   ]
  },
  {
   "cell_type": "code",
   "execution_count": 253,
   "metadata": {},
   "outputs": [],
   "source": [
    "my_dboard.insert(box_f,box_id=1)\n",
    "my_dboard.insert(box_a,side='right',box_id=1)\n",
    "my_dboard.insert(box_b,side = 'below',box_id=2)\n",
    "my_dboard.insert(box_c,side = 'below',box_id=1)\n",
    "my_dboard.insert(box_d,side='right',box_id=4)\n",
    "my_dboard.insert(box_e,side = 'below',box_id=2)"
   ]
  },
  {
   "cell_type": "code",
   "execution_count": 254,
   "metadata": {},
   "outputs": [
    {
     "data": {
      "text/html": [
       "\n",
       "<!DOCTYPE HTML>\n",
       "<html>\n",
       "  <head>\n",
       "    <style>\n",
       "      body {\n",
       "        margin: 0px;\n",
       "        padding: 0px;\n",
       "      }\n",
       "    </style>\n",
       "  </head>\n",
       "  <body>\n",
       "    <canvas id=\"myCanvas\" width=\"400\" height=\"400\"></canvas>\n",
       "    <script>\n",
       "      var canvas = document.getElementById('myCanvas');\n",
       "      var context = canvas.getContext('2d');\n",
       "      <!-- Dashboard -->\n",
       "      context.beginPath();\n",
       "      context.rect(0, 0, 400, 400);\n",
       "      context.lineWidth = 2;\n",
       "      context.strokeStyle = 'black';\n",
       "      context.stroke();\n",
       "     <!-- Draw some lines in -->\n",
       "          context.beginPath();\n",
       "          context.rect(200.0, 0, 1, 400);\n",
       "          context.lineWidth = 1;\n",
       "          context.strokeStyle = 'black';\n",
       "          context.stroke();\n",
       "    <!-- Draw some lines in -->\n",
       "          context.beginPath();\n",
       "          context.rect(0, 200.0, 200.0, 1);\n",
       "          context.lineWidth = 1;\n",
       "          context.strokeStyle = 'black';\n",
       "          context.stroke();\n",
       "    <!-- Draw some lines in -->\n",
       "          context.beginPath();\n",
       "          context.rect(200.0, 200.0, 200.0, 1);\n",
       "          context.lineWidth = 1;\n",
       "          context.strokeStyle = 'black';\n",
       "          context.stroke();\n",
       "    <!-- Insert box numbers -->\n",
       "          context.font = '10pt Times New Roman';\n",
       "          context.textAlign = 'center';\n",
       "          context.fillText(1, 0 + 0.5*200.0, 0 + 0.5*200.0);\n",
       "    <!-- Draw some lines in -->\n",
       "          context.beginPath();\n",
       "          context.rect(0, 300.0, 200.0, 1);\n",
       "          context.lineWidth = 1;\n",
       "          context.strokeStyle = 'black';\n",
       "          context.stroke();\n",
       "    <!-- Insert box numbers -->\n",
       "          context.font = '10pt Times New Roman';\n",
       "          context.textAlign = 'center';\n",
       "          context.fillText(4, 200.0 + 0.5*200.0, 0 + 0.5*200.0);\n",
       "    <!-- Draw some lines in -->\n",
       "          context.beginPath();\n",
       "          context.rect(300.0, 200.0, 1, 200.0);\n",
       "          context.lineWidth = 1;\n",
       "          context.strokeStyle = 'black';\n",
       "          context.stroke();\n",
       "    <!-- Insert box numbers -->\n",
       "          context.font = '10pt Times New Roman';\n",
       "          context.textAlign = 'center';\n",
       "          context.fillText(2, 0 + 0.5*200.0, 200.0 + 0.5*100.0);\n",
       "    <!-- Insert box numbers -->\n",
       "          context.font = '10pt Times New Roman';\n",
       "          context.textAlign = 'center';\n",
       "          context.fillText(3, 0 + 0.5*200.0, 300.0 + 0.5*100.0);\n",
       "    <!-- Insert box numbers -->\n",
       "          context.font = '10pt Times New Roman';\n",
       "          context.textAlign = 'center';\n",
       "          context.fillText(5, 200.0 + 0.5*100.0, 200.0 + 0.5*200.0);\n",
       "    <!-- Insert box numbers -->\n",
       "          context.font = '10pt Times New Roman';\n",
       "          context.textAlign = 'center';\n",
       "          context.fillText(6, 300.0 + 0.5*100.0, 200.0 + 0.5*200.0);\n",
       "     </script>\n",
       "  </body>\n",
       "</html>\n"
      ],
      "text/plain": [
       "<IPython.core.display.HTML object>"
      ]
     },
     "execution_count": 254,
     "metadata": {},
     "output_type": "execute_result"
    }
   ],
   "source": [
    "# my_dboard.insert(box_d,side='below',box_id=1)\n",
    "my_dboard.get_preview()"
   ]
  },
  {
   "cell_type": "code",
   "execution_count": 252,
   "metadata": {
    "collapsed": true
   },
   "outputs": [],
   "source": [
    "my_dboard.clear()\n",
    "my_dboard = dashboard.Dashboard()\n",
    "cf.set_config_file(offline=False, world_readable=True, theme='seaborn')"
   ]
  },
  {
   "cell_type": "code",
   "execution_count": 255,
   "metadata": {},
   "outputs": [
    {
     "data": {
      "text/plain": [
       "'https://plot.ly/~cwczarnik/301/refugee-analysis/'"
      ]
     },
     "execution_count": 255,
     "metadata": {},
     "output_type": "execute_result"
    }
   ],
   "source": [
    "my_dboard['settings']['title'] = 'Refugee Analysis'\n",
    "py.dashboard_ops.upload(my_dboard, filename='Refugee Analysis')"
   ]
  },
  {
   "cell_type": "code",
   "execution_count": 119,
   "metadata": {
    "collapsed": true
   },
   "outputs": [],
   "source": []
  },
  {
   "cell_type": "code",
   "execution_count": null,
   "metadata": {
    "collapsed": true
   },
   "outputs": [],
   "source": []
  }
 ],
 "metadata": {
  "kernelspec": {
   "display_name": "Python 3",
   "language": "python",
   "name": "python3"
  },
  "language_info": {
   "codemirror_mode": {
    "name": "ipython",
    "version": 3
   },
   "file_extension": ".py",
   "mimetype": "text/x-python",
   "name": "python",
   "nbconvert_exporter": "python",
   "pygments_lexer": "ipython3",
   "version": "3.6.2"
  }
 },
 "nbformat": 4,
 "nbformat_minor": 2
}
